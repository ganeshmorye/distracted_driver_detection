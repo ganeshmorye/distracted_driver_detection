{
 "cells": [
  {
   "cell_type": "code",
   "execution_count": 41,
   "metadata": {
    "colab": {
     "base_uri": "https://localhost:8080/"
    },
    "executionInfo": {
     "elapsed": 19398,
     "status": "ok",
     "timestamp": 1637430072728,
     "user": {
      "displayName": "Ganesh Morye",
      "photoUrl": "https://lh3.googleusercontent.com/a/default-user=s64",
      "userId": "03600940701921867523"
     },
     "user_tz": 480
    },
    "id": "rKrUkLaggh3T",
    "outputId": "342f34ee-f259-4a4c-d682-63095e16a325"
   },
   "outputs": [],
   "source": [
    "\n",
    "import tensorflow as tf\n",
    "from pathlib import Path\n",
    "import pandas as pd\n",
    "import os\n"
   ]
  },
  {
   "cell_type": "code",
   "execution_count": 43,
   "metadata": {},
   "outputs": [
    {
     "name": "stdout",
     "output_type": "stream",
     "text": [
      "Code is run from Local Machine\n"
     ]
    }
   ],
   "source": [
    "try:\n",
    "    from google.colab import drive\n",
    "    model_dir = Path('/content/drive/My Drive/Colab_Notebooks/state_farm/models') # for colab\n",
    "    train_img_dir = '/content/drive/My Drive/Colab_Notebooks/state_farm/data/imgs/train'\n",
    "    test_img_dir = Path('/content/drive/My Drive/Colab_Notebooks/state_farm/data/imgs/test')\n",
    "    csv_dir = '/content/drive/My Drive/Colab_Notebooks/state_farm/data/csv'\n",
    "    csv_file = 'driver_imgs_list.csv'\n",
    "    submissions_dir = '/content/drive/My Drive/Colab_Notebooks/state_farm/submissions'\n",
    "    code_in = 'Google Colab'\n",
    "    drive.mount('/content/drive')\n",
    "except:\n",
    "    model_dir = Path('../models') # for local machine\n",
    "    train_img_dir = '../data/imgs/train'\n",
    "    test_img_dir = Path('../data/imgs/test')\n",
    "    csv_dir = '../data/csv'\n",
    "    csv_file = 'driver_imgs_list.csv'\n",
    "    submissions_dir = '../submissions'\n",
    "    code_in = 'Local Machine'\n",
    "\n",
    "print(f'Code is run from {code_in}')"
   ]
  },
  {
   "cell_type": "code",
   "execution_count": 44,
   "metadata": {
    "executionInfo": {
     "elapsed": 4,
     "status": "ok",
     "timestamp": 1637430082977,
     "user": {
      "displayName": "Ganesh Morye",
      "photoUrl": "https://lh3.googleusercontent.com/a/default-user=s64",
      "userId": "03600940701921867523"
     },
     "user_tz": 480
    },
    "id": "xqLTpUR4pb6E"
   },
   "outputs": [],
   "source": [
    "class_labels_dict = {'c0' : 'safe driving',\n",
    "'c1' : 'texting - right',\n",
    "'c2' : 'talking on the phone - right',\n",
    "'c3' : 'texting - left',\n",
    "'c4' : 'talking on the phone - left',\n",
    "'c5' : 'operating the radio',\n",
    "'c6' : 'drinking',\n",
    "'c7' : 'reaching behind',\n",
    "'c8' : 'hair and makeup',\n",
    "'c9' : 'talking to passenger'}"
   ]
  },
  {
   "cell_type": "code",
   "execution_count": 7,
   "metadata": {
    "executionInfo": {
     "elapsed": 2046,
     "status": "ok",
     "timestamp": 1637430450391,
     "user": {
      "displayName": "Ganesh Morye",
      "photoUrl": "https://lh3.googleusercontent.com/a/default-user=s64",
      "userId": "03600940701921867523"
     },
     "user_tz": 480
    },
    "id": "_8g13o1Hpwg8"
   },
   "outputs": [],
   "source": [
    "test_images_files = list(test_img_dir.glob(r'**/*.jpg'))"
   ]
  },
  {
   "cell_type": "code",
   "execution_count": 10,
   "metadata": {
    "executionInfo": {
     "elapsed": 312,
     "status": "ok",
     "timestamp": 1637430453359,
     "user": {
      "displayName": "Ganesh Morye",
      "photoUrl": "https://lh3.googleusercontent.com/a/default-user=s64",
      "userId": "03600940701921867523"
     },
     "user_tz": 480
    },
    "id": "vChS7ua7qUa_"
   },
   "outputs": [],
   "source": [
    "test_df = pd.DataFrame(test_images_files).astype(str)"
   ]
  },
  {
   "cell_type": "code",
   "execution_count": 11,
   "metadata": {
    "executionInfo": {
     "elapsed": 121,
     "status": "ok",
     "timestamp": 1637430454016,
     "user": {
      "displayName": "Ganesh Morye",
      "photoUrl": "https://lh3.googleusercontent.com/a/default-user=s64",
      "userId": "03600940701921867523"
     },
     "user_tz": 480
    },
    "id": "u0Ud8R2kqXpy"
   },
   "outputs": [],
   "source": [
    "test_df.columns=['filepaths']"
   ]
  },
  {
   "cell_type": "code",
   "execution_count": 45,
   "metadata": {
    "collapsed": true,
    "jupyter": {
     "outputs_hidden": true
    },
    "tags": []
   },
   "outputs": [
    {
     "data": {
      "text/html": [
       "<div>\n",
       "<style scoped>\n",
       "    .dataframe tbody tr th:only-of-type {\n",
       "        vertical-align: middle;\n",
       "    }\n",
       "\n",
       "    .dataframe tbody tr th {\n",
       "        vertical-align: top;\n",
       "    }\n",
       "\n",
       "    .dataframe thead th {\n",
       "        text-align: right;\n",
       "    }\n",
       "</style>\n",
       "<table border=\"1\" class=\"dataframe\">\n",
       "  <thead>\n",
       "    <tr style=\"text-align: right;\">\n",
       "      <th></th>\n",
       "      <th>filepaths</th>\n",
       "    </tr>\n",
       "  </thead>\n",
       "  <tbody>\n",
       "    <tr>\n",
       "      <th>0</th>\n",
       "      <td>../data/imgs/test/img_60161.jpg</td>\n",
       "    </tr>\n",
       "    <tr>\n",
       "      <th>1</th>\n",
       "      <td>../data/imgs/test/img_94786.jpg</td>\n",
       "    </tr>\n",
       "    <tr>\n",
       "      <th>2</th>\n",
       "      <td>../data/imgs/test/img_85853.jpg</td>\n",
       "    </tr>\n",
       "    <tr>\n",
       "      <th>3</th>\n",
       "      <td>../data/imgs/test/img_36327.jpg</td>\n",
       "    </tr>\n",
       "    <tr>\n",
       "      <th>4</th>\n",
       "      <td>../data/imgs/test/img_39014.jpg</td>\n",
       "    </tr>\n",
       "    <tr>\n",
       "      <th>...</th>\n",
       "      <td>...</td>\n",
       "    </tr>\n",
       "    <tr>\n",
       "      <th>79721</th>\n",
       "      <td>../data/imgs/test/img_77404.jpg</td>\n",
       "    </tr>\n",
       "    <tr>\n",
       "      <th>79722</th>\n",
       "      <td>../data/imgs/test/img_68524.jpg</td>\n",
       "    </tr>\n",
       "    <tr>\n",
       "      <th>79723</th>\n",
       "      <td>../data/imgs/test/img_67617.jpg</td>\n",
       "    </tr>\n",
       "    <tr>\n",
       "      <th>79724</th>\n",
       "      <td>../data/imgs/test/img_30997.jpg</td>\n",
       "    </tr>\n",
       "    <tr>\n",
       "      <th>79725</th>\n",
       "      <td>../data/imgs/test/img_21642.jpg</td>\n",
       "    </tr>\n",
       "  </tbody>\n",
       "</table>\n",
       "<p>79726 rows × 1 columns</p>\n",
       "</div>"
      ],
      "text/plain": [
       "                             filepaths\n",
       "0      ../data/imgs/test/img_60161.jpg\n",
       "1      ../data/imgs/test/img_94786.jpg\n",
       "2      ../data/imgs/test/img_85853.jpg\n",
       "3      ../data/imgs/test/img_36327.jpg\n",
       "4      ../data/imgs/test/img_39014.jpg\n",
       "...                                ...\n",
       "79721  ../data/imgs/test/img_77404.jpg\n",
       "79722  ../data/imgs/test/img_68524.jpg\n",
       "79723  ../data/imgs/test/img_67617.jpg\n",
       "79724  ../data/imgs/test/img_30997.jpg\n",
       "79725  ../data/imgs/test/img_21642.jpg\n",
       "\n",
       "[79726 rows x 1 columns]"
      ]
     },
     "execution_count": 45,
     "metadata": {},
     "output_type": "execute_result"
    }
   ],
   "source": [
    "test_df"
   ]
  },
  {
   "cell_type": "code",
   "execution_count": 46,
   "metadata": {
    "executionInfo": {
     "elapsed": 5,
     "status": "ok",
     "timestamp": 1637430454815,
     "user": {
      "displayName": "Ganesh Morye",
      "photoUrl": "https://lh3.googleusercontent.com/a/default-user=s64",
      "userId": "03600940701921867523"
     },
     "user_tz": 480
    },
    "id": "BOyDf7hN-n7T"
   },
   "outputs": [],
   "source": [
    "test_generator = tf.keras.preprocessing.image.ImageDataGenerator(\n",
    "    #preprocessing_function=tf.keras.applications.mobilenet_v2.preprocess_input\n",
    ")\n"
   ]
  },
  {
   "cell_type": "code",
   "execution_count": 47,
   "metadata": {
    "colab": {
     "base_uri": "https://localhost:8080/"
    },
    "executionInfo": {
     "elapsed": 18520,
     "status": "ok",
     "timestamp": 1637430474297,
     "user": {
      "displayName": "Ganesh Morye",
      "photoUrl": "https://lh3.googleusercontent.com/a/default-user=s64",
      "userId": "03600940701921867523"
     },
     "user_tz": 480
    },
    "id": "ifGwzxCapA9H",
    "outputId": "eb8d6f6f-2df7-40b4-ee42-928138469161"
   },
   "outputs": [
    {
     "name": "stdout",
     "output_type": "stream",
     "text": [
      "Found 79726 validated image filenames.\n"
     ]
    }
   ],
   "source": [
    "#test_images.reset()\n",
    "test_images = test_generator.flow_from_dataframe(\n",
    "    dataframe=test_df,\n",
    "    x_col='filepaths',\n",
    "    y_col=None,\n",
    "    target_size=(224, 224),\n",
    "    rescale=1./255,\n",
    "    color_mode='rgb',\n",
    "    class_mode=None,\n",
    "    batch_size=64,\n",
    "    shuffle=False\n",
    ")"
   ]
  },
  {
   "cell_type": "code",
   "execution_count": 52,
   "metadata": {
    "colab": {
     "base_uri": "https://localhost:8080/"
    },
    "executionInfo": {
     "elapsed": 19,
     "status": "ok",
     "timestamp": 1637430474298,
     "user": {
      "displayName": "Ganesh Morye",
      "photoUrl": "https://lh3.googleusercontent.com/a/default-user=s64",
      "userId": "03600940701921867523"
     },
     "user_tz": 480
    },
    "id": "DTy8WTuNgTAj",
    "outputId": "4f26b4a4-a6e8-42f0-a492-aa2e2cb7774d",
    "tags": []
   },
   "outputs": [
    {
     "data": {
      "text/plain": [
       "[PosixPath('../models/best_model_vgg16_dropout_1024.hdf5'),\n",
       " PosixPath('../models/best_model_vgg16_l2_1024.hdf5'),\n",
       " PosixPath('../models/EfficientNetB0_v2_augment_20epochs.hdf5'),\n",
       " PosixPath('../models/best_model_vgg19_l2_4096_1024_adam_lr.hdf5'),\n",
       " PosixPath('../models/base_model_kfold.hdf5'),\n",
       " PosixPath('../models/best_model_vgg16_dropout_4096_512.hdf5'),\n",
       " PosixPath('../models/best_model_vgg_l2_4096_1024_adam_lr_IG.hdf5'),\n",
       " PosixPath('../models/best_model_vgg16_l2_4096_1024_adam_lr.hdf5'),\n",
       " PosixPath('../models/preprocess_vgg16_4096_1024_l2(0.0005)_lr_IG2.hdf5'),\n",
       " PosixPath('../models/best_model_vgg16_l2_4096_1024.hdf5'),\n",
       " PosixPath('../models/base_model_gkfold.hdf5'),\n",
       " PosixPath('../models/best_model_EfficientNetB0_dense.hdf5'),\n",
       " PosixPath('../models/EfficientNetB0_v2_base_20epochs.hdf5'),\n",
       " PosixPath('../models/best_model.hdf5'),\n",
       " PosixPath('../models/preprocess_vgg16_4096_1024_l2(0.0005)_lr_IG.hdf5'),\n",
       " PosixPath('../models/best_model_vgg16_dropout_1024_512_bs32.hdf5'),\n",
       " PosixPath('../models/best_model_vgg16.hdf5'),\n",
       " PosixPath('../models/best_model_vgg16_dropout_1024_512.hdf5'),\n",
       " PosixPath('../models/best_model_EfficientNetB0_v2.hdf5')]"
      ]
     },
     "execution_count": 52,
     "metadata": {},
     "output_type": "execute_result"
    }
   ],
   "source": [
    "models = list(model_dir.glob(r'**/*.hdf5'))\n",
    "models"
   ]
  },
  {
   "cell_type": "code",
   "execution_count": 53,
   "metadata": {},
   "outputs": [
    {
     "data": {
      "text/plain": [
       "19"
      ]
     },
     "execution_count": 53,
     "metadata": {},
     "output_type": "execute_result"
    }
   ],
   "source": [
    "len(models)"
   ]
  },
  {
   "cell_type": "code",
   "execution_count": 54,
   "metadata": {
    "executionInfo": {
     "elapsed": 151,
     "status": "ok",
     "timestamp": 1637430476157,
     "user": {
      "displayName": "Ganesh Morye",
      "photoUrl": "https://lh3.googleusercontent.com/a/default-user=s64",
      "userId": "03600940701921867523"
     },
     "user_tz": 480
    },
    "id": "TBGr7GasoOpM"
   },
   "outputs": [],
   "source": [
    "def kaggle_submission(test_images, loaded_model, filename):\n",
    "    submission_csv = os.path.join(submissions_dir, f'{filename}.csv')\n",
    "    my_file = Path(submission_csv)\n",
    "    if my_file.is_file():\n",
    "        print(f'already existing submission file for {submission_csv}')\n",
    "        return\n",
    "\n",
    "    print(f'Predicting Model {filename}')\n",
    "    pred = loaded_model.predict(test_images, verbose=1)\n",
    "    print(f'Creating a DataFrame of {filename} Predictions')\n",
    "    pred_df = pd.DataFrame(data=pred, columns=list(class_labels_dict.keys()), index=(test_images.filenames))\n",
    "    pred_df.index = pred_df.index.map(os.path.basename)\n",
    "    pred_df.index.name='img'\n",
    "    print(f'Preparing Submission file for {filename}')    \n",
    "    pred_df.to_csv(submission_csv)\n",
    "    # submission_csv = f'/content/drive/My\\ Drive/Colab_Notebooks/state_farm/submissions/{filename}.csv' #needed for CLI. space in folder name\n",
    "    # print(f'Uploading to Kaggle {submission_csv}')\n",
    "    # !kaggle competitions submit -c state-farm-distracted-driver-detection -f {submission_csv}  -m \"{filename} submission\""
   ]
  },
  {
   "cell_type": "code",
   "execution_count": 55,
   "metadata": {
    "colab": {
     "base_uri": "https://localhost:8080/"
    },
    "executionInfo": {
     "elapsed": 16377456,
     "status": "ok",
     "timestamp": 1637446859371,
     "user": {
      "displayName": "Ganesh Morye",
      "photoUrl": "https://lh3.googleusercontent.com/a/default-user=s64",
      "userId": "03600940701921867523"
     },
     "user_tz": 480
    },
    "id": "vQpRev6Zgbqc",
    "outputId": "0c55d855-ace7-4289-8fb1-166fa52df942",
    "tags": []
   },
   "outputs": [
    {
     "name": "stdout",
     "output_type": "stream",
     "text": [
      "already existing submission file for ../submissions/best_model_vgg16_dropout_1024.csv\n",
      "already existing submission file for ../submissions/best_model_vgg16_l2_1024.csv\n",
      "already existing submission file for ../submissions/EfficientNetB0_v2_augment_20epochs.csv\n",
      "already existing submission file for ../submissions/best_model_vgg19_l2_4096_1024_adam_lr.csv\n",
      "already existing submission file for ../submissions/base_model_kfold.csv\n",
      "already existing submission file for ../submissions/best_model_vgg16_dropout_4096_512.csv\n",
      "already existing submission file for ../submissions/best_model_vgg_l2_4096_1024_adam_lr_IG.csv\n",
      "already existing submission file for ../submissions/best_model_vgg16_l2_4096_1024_adam_lr.csv\n",
      "Predicting Model preprocess_vgg16_4096_1024_l2(0.0005)_lr_IG2\n",
      "1246/1246 [==============================] - 10160s 8s/step\n",
      "Creating a DataFrame of preprocess_vgg16_4096_1024_l2(0.0005)_lr_IG2 Predictions\n",
      "Preparing Submission file for preprocess_vgg16_4096_1024_l2(0.0005)_lr_IG2\n",
      "Uploading to Kaggle ../submissions/preprocess_vgg16_4096_1024_l2(0.0005)_lr_IG2.csv\n",
      "zsh:1: no matches found: ../submissions/preprocess_vgg16_4096_1024_l2(0.0005)_lr_IG2.csv\n",
      "already existing submission file for ../submissions/best_model_vgg16_l2_4096_1024.csv\n",
      "already existing submission file for ../submissions/base_model_gkfold.csv\n",
      "already existing submission file for ../submissions/best_model_EfficientNetB0_dense.csv\n",
      "already existing submission file for ../submissions/EfficientNetB0_v2_base_20epochs.csv\n",
      "already existing submission file for ../submissions/best_model.csv\n",
      "already existing submission file for ../submissions/preprocess_vgg16_4096_1024_l2(0.0005)_lr_IG.csv\n",
      "already existing submission file for ../submissions/best_model_vgg16_dropout_1024_512_bs32.csv\n",
      "already existing submission file for ../submissions/best_model_vgg16.csv\n",
      "already existing submission file for ../submissions/best_model_vgg16_dropout_1024_512.csv\n",
      "already existing submission file for ../submissions/best_model_EfficientNetB0_v2.csv\n"
     ]
    }
   ],
   "source": [
    "for model in models:\n",
    "    filename = os.path.basename(model).replace('.hdf5', '')\n",
    "    loaded_model = tf.keras.models.load_model(model)\n",
    "    kaggle_submission(test_images, loaded_model, filename)\n",
    "  # print(loaded_model.summary())"
   ]
  },
  {
   "cell_type": "code",
   "execution_count": 31,
   "metadata": {},
   "outputs": [],
   "source": [
    "!pip install -q kaggle\n",
    "!chmod 600 ~/.kaggle/kaggle.json\n"
   ]
  },
  {
   "cell_type": "code",
   "execution_count": 34,
   "metadata": {
    "collapsed": true,
    "jupyter": {
     "outputs_hidden": true
    },
    "tags": []
   },
   "outputs": [
    {
     "data": {
      "text/plain": [
       "[PosixPath('../submissions/best_model_vgg_l2_4096_1024_adam_lr_IG.csv'),\n",
       " PosixPath('../submissions/best_model_vgg16_l2_1024.csv'),\n",
       " PosixPath('../submissions/best_model_vgg16.csv'),\n",
       " PosixPath('../submissions/basemodel.csv'),\n",
       " PosixPath('../submissions/EfficientNetB0_v2_augment_20epochs.csv'),\n",
       " PosixPath('../submissions/best_model_vgg16_dropout_1024_512.csv'),\n",
       " PosixPath('../submissions/best_model_vgg16_l2_4096_1024_adam_lr.csv'),\n",
       " PosixPath('../submissions/best_model_vgg16_l2_4096_1024.csv'),\n",
       " PosixPath('../submissions/best_model_EfficientNetB0_dense.csv'),\n",
       " PosixPath('../submissions/best_model_vgg16_dropout_4096_512.csv'),\n",
       " PosixPath('../submissions/best_model_EfficientNetB0_v2.csv'),\n",
       " PosixPath('../submissions/model_eval_scores.csv'),\n",
       " PosixPath('../submissions/best_model_vgg19_l2_4096_1024_adam_lr.csv'),\n",
       " PosixPath('../submissions/best_model.csv'),\n",
       " PosixPath('../submissions/base_model_kfold.csv'),\n",
       " PosixPath('../submissions/base_model_gkfold.csv'),\n",
       " PosixPath('../submissions/EfficientNetB0_v2_base_20epochs.csv'),\n",
       " PosixPath('../submissions/best_model_vgg16_dropout_1024_512_bs32.csv'),\n",
       " PosixPath('../submissions/best_model_vgg16_dropout_1024.csv')]"
      ]
     },
     "execution_count": 34,
     "metadata": {},
     "output_type": "execute_result"
    }
   ],
   "source": [
    "submissions = list(Path(submissions_dir).glob(r'**/*.csv'))\n",
    "submissions"
   ]
  },
  {
   "cell_type": "code",
   "execution_count": 38,
   "metadata": {
    "collapsed": true,
    "jupyter": {
     "outputs_hidden": true
    },
    "tags": []
   },
   "outputs": [
    {
     "name": "stdout",
     "output_type": "stream",
     "text": [
      "Kaggle Submission - ../submissions/best_model_vgg_l2_4096_1024_adam_lr_IG.csv\n",
      "100%|███████████████████████████████████████| 10.8M/10.8M [00:16<00:00, 668kB/s]\n",
      "Successfully submitted to State Farm Distracted Driver DetectionKaggle Submission - ../submissions/best_model_vgg16_l2_1024.csv\n",
      "100%|███████████████████████████████████████| 10.5M/10.5M [00:16<00:00, 653kB/s]\n",
      "Successfully submitted to State Farm Distracted Driver DetectionKaggle Submission - ../submissions/best_model_vgg16.csv\n",
      "100%|███████████████████████████████████████| 10.6M/10.6M [00:16<00:00, 652kB/s]\n",
      "Successfully submitted to State Farm Distracted Driver DetectionKaggle Submission - ../submissions/basemodel.csv\n",
      "100%|███████████████████████████████████████| 11.0M/11.0M [00:18<00:00, 613kB/s]\n",
      "Successfully submitted to State Farm Distracted Driver DetectionKaggle Submission - ../submissions/EfficientNetB0_v2_augment_20epochs.csv\n",
      "100%|███████████████████████████████████████| 10.5M/10.5M [00:17<00:00, 645kB/s]\n",
      "Successfully submitted to State Farm Distracted Driver DetectionKaggle Submission - ../submissions/best_model_vgg16_dropout_1024_512.csv\n",
      "100%|███████████████████████████████████████| 10.7M/10.7M [00:16<00:00, 662kB/s]\n",
      "Successfully submitted to State Farm Distracted Driver DetectionKaggle Submission - ../submissions/best_model_vgg16_l2_4096_1024_adam_lr.csv\n",
      "100%|███████████████████████████████████████| 10.7M/10.7M [00:18<00:00, 618kB/s]\n",
      "Successfully submitted to State Farm Distracted Driver DetectionKaggle Submission - ../submissions/best_model_vgg16_l2_4096_1024.csv\n",
      "100%|███████████████████████████████████████| 10.6M/10.6M [00:17<00:00, 622kB/s]\n",
      "Successfully submitted to State Farm Distracted Driver DetectionKaggle Submission - ../submissions/best_model_EfficientNetB0_dense.csv\n",
      "100%|███████████████████████████████████████| 9.55M/9.55M [00:16<00:00, 624kB/s]\n",
      "Successfully submitted to State Farm Distracted Driver DetectionKaggle Submission - ../submissions/best_model_vgg16_dropout_4096_512.csv\n",
      "100%|███████████████████████████████████████| 10.6M/10.6M [00:18<00:00, 591kB/s]\n",
      "Successfully submitted to State Farm Distracted Driver DetectionKaggle Submission - ../submissions/best_model_EfficientNetB0_v2.csv\n",
      "100%|███████████████████████████████████████| 9.56M/9.56M [00:15<00:00, 634kB/s]\n",
      "Successfully submitted to State Farm Distracted Driver DetectionKaggle Submission - ../submissions/model_eval_scores.csv\n",
      "100%|████████████████████████████████████████| 1.75k/1.75k [00:01<00:00, 999B/s]\n",
      "Successfully submitted to State Farm Distracted Driver DetectionKaggle Submission - ../submissions/best_model_vgg19_l2_4096_1024_adam_lr.csv\n",
      "100%|███████████████████████████████████████| 10.6M/10.6M [00:17<00:00, 651kB/s]\n",
      "Successfully submitted to State Farm Distracted Driver DetectionKaggle Submission - ../submissions/best_model.csv\n",
      "100%|███████████████████████████████████████| 10.7M/10.7M [00:16<00:00, 676kB/s]\n",
      "Successfully submitted to State Farm Distracted Driver DetectionKaggle Submission - ../submissions/base_model_kfold.csv\n",
      "100%|███████████████████████████████████████| 4.20M/4.20M [00:07<00:00, 580kB/s]\n",
      "Successfully submitted to State Farm Distracted Driver DetectionKaggle Submission - ../submissions/base_model_gkfold.csv\n",
      "100%|███████████████████████████████████████| 4.31M/4.31M [00:07<00:00, 605kB/s]\n",
      "Successfully submitted to State Farm Distracted Driver DetectionKaggle Submission - ../submissions/EfficientNetB0_v2_base_20epochs.csv\n",
      "100%|███████████████████████████████████████| 10.6M/10.6M [00:17<00:00, 644kB/s]\n",
      "Successfully submitted to State Farm Distracted Driver DetectionKaggle Submission - ../submissions/best_model_vgg16_dropout_1024_512_bs32.csv\n",
      "100%|███████████████████████████████████████| 10.5M/10.5M [00:16<00:00, 646kB/s]\n",
      "Successfully submitted to State Farm Distracted Driver DetectionKaggle Submission - ../submissions/best_model_vgg16_dropout_1024.csv\n",
      "100%|███████████████████████████████████████| 10.6M/10.6M [00:18<00:00, 595kB/s]\n",
      "Successfully submitted to State Farm Distracted Driver Detection"
     ]
    }
   ],
   "source": [
    "for submission in submissions:\n",
    "    print(f'Kaggle Submission - {submission}')\n",
    "    !kaggle competitions submit -c state-farm-distracted-driver-detection -f {submission}  -m \"{submission} submission\""
   ]
  },
  {
   "cell_type": "code",
   "execution_count": null,
   "metadata": {},
   "outputs": [],
   "source": []
  }
 ],
 "metadata": {
  "accelerator": "TPU",
  "colab": {
   "authorship_tag": "ABX9TyMnExzBRA16o2o17lOCywaU",
   "collapsed_sections": [],
   "machine_shape": "hm",
   "name": "kaggle_upload.ipynb",
   "provenance": []
  },
  "kernelspec": {
   "display_name": "Python [conda env:opencv]",
   "language": "python",
   "name": "conda-env-opencv-py"
  },
  "language_info": {
   "codemirror_mode": {
    "name": "ipython",
    "version": 3
   },
   "file_extension": ".py",
   "mimetype": "text/x-python",
   "name": "python",
   "nbconvert_exporter": "python",
   "pygments_lexer": "ipython3",
   "version": "3.9.7"
  }
 },
 "nbformat": 4,
 "nbformat_minor": 4
}
